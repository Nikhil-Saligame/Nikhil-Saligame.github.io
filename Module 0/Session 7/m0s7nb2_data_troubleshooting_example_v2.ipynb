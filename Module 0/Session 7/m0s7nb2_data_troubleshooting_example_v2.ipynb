{
  "cells": [
    {
      "cell_type": "markdown",
      "metadata": {
        "id": "view-in-github",
        "colab_type": "text"
      },
      "source": [
        "<a href=\"https://colab.research.google.com/github/Nikhil-Saligame/Nikhil-Saligame.github.io/blob/master/Module%200/Session%207/m0s7nb2_data_troubleshooting_example_v2.ipynb\" target=\"_parent\"><img src=\"https://colab.research.google.com/assets/colab-badge.svg\" alt=\"Open In Colab\"/></a>"
      ]
    },
    {
      "cell_type": "markdown",
      "metadata": {
        "id": "iZy98TWoIlzu"
      },
      "source": [
        "# Data Troubleshooting Example"
      ]
    },
    {
      "cell_type": "markdown",
      "metadata": {
        "nbgrader": {
          "grade": false,
          "grade_id": "cell-3b25f2b6cfc80b65",
          "locked": true,
          "schema_version": 1,
          "solution": false
        },
        "id": "FYiqC9sOIlzx"
      },
      "source": [
        "## This sample notebook is to show you the testing paradigm that you will face on all of the exams.\n",
        "\n",
        "### The notebook contains Exercise 0 from Notebook 1, Part 2.\n",
        "\n",
        "#### What we are going to do is write code that purposely fails the exercise in multiple ways, to show you how to troubleshoot data errors on the exams.\n",
        "***"
      ]
    },
    {
      "cell_type": "code",
      "source": [
        "!wget https://raw.githubusercontent.com/gt-cse-6040/bootcamp/main/Module%200/Session%207/nb_1_2_tester.py\n",
        "!wget https://raw.githubusercontent.com/gt-cse-6040/bootcamp/main/Module%200/Session%207/test_cases.pkl\n",
        "!wget https://raw.githubusercontent.com/gt-cse-6040/bootcamp/main/Module%200/Session%207/tester_6040.py"
      ],
      "metadata": {
        "id": "K2qGT3RZIqWb",
        "outputId": "970ed630-9b94-4559-c88d-864f08e04855",
        "colab": {
          "base_uri": "https://localhost:8080/"
        }
      },
      "execution_count": 1,
      "outputs": [
        {
          "output_type": "stream",
          "name": "stdout",
          "text": [
            "--2025-01-16 00:36:31--  https://raw.githubusercontent.com/gt-cse-6040/bootcamp/main/Module%200/Session%207/nb_1_2_tester.py\n",
            "Resolving raw.githubusercontent.com (raw.githubusercontent.com)... 185.199.108.133, 185.199.109.133, 185.199.110.133, ...\n",
            "Connecting to raw.githubusercontent.com (raw.githubusercontent.com)|185.199.108.133|:443... connected.\n",
            "HTTP request sent, awaiting response... 200 OK\n",
            "Length: 6891 (6.7K) [text/plain]\n",
            "Saving to: ‘nb_1_2_tester.py’\n",
            "\n",
            "nb_1_2_tester.py    100%[===================>]   6.73K  --.-KB/s    in 0s      \n",
            "\n",
            "2025-01-16 00:36:32 (60.4 MB/s) - ‘nb_1_2_tester.py’ saved [6891/6891]\n",
            "\n",
            "--2025-01-16 00:36:32--  https://raw.githubusercontent.com/gt-cse-6040/bootcamp/main/Module%200/Session%207/test_cases.pkl\n",
            "Resolving raw.githubusercontent.com (raw.githubusercontent.com)... 185.199.110.133, 185.199.108.133, 185.199.109.133, ...\n",
            "Connecting to raw.githubusercontent.com (raw.githubusercontent.com)|185.199.110.133|:443... connected.\n",
            "HTTP request sent, awaiting response... 200 OK\n",
            "Length: 248630 (243K) [application/octet-stream]\n",
            "Saving to: ‘test_cases.pkl’\n",
            "\n",
            "test_cases.pkl      100%[===================>] 242.80K  1.56MB/s    in 0.2s    \n",
            "\n",
            "2025-01-16 00:36:33 (1.56 MB/s) - ‘test_cases.pkl’ saved [248630/248630]\n",
            "\n",
            "--2025-01-16 00:36:33--  https://raw.githubusercontent.com/gt-cse-6040/bootcamp/main/Module%200/Session%207/tester_6040.py\n",
            "Resolving raw.githubusercontent.com (raw.githubusercontent.com)... 185.199.110.133, 185.199.111.133, 185.199.108.133, ...\n",
            "Connecting to raw.githubusercontent.com (raw.githubusercontent.com)|185.199.110.133|:443... connected.\n",
            "HTTP request sent, awaiting response... 200 OK\n",
            "Length: 4315 (4.2K) [text/plain]\n",
            "Saving to: ‘tester_6040.py’\n",
            "\n",
            "tester_6040.py      100%[===================>]   4.21K  --.-KB/s    in 0s      \n",
            "\n",
            "2025-01-16 00:36:34 (44.0 MB/s) - ‘tester_6040.py’ saved [4315/4315]\n",
            "\n"
          ]
        }
      ]
    },
    {
      "cell_type": "code",
      "execution_count": 2,
      "metadata": {
        "id": "2hLrIdBlIlzy"
      },
      "outputs": [],
      "source": [
        "%load_ext autoreload\n",
        "%autoreload 2"
      ]
    },
    {
      "cell_type": "code",
      "execution_count": 3,
      "metadata": {
        "id": "9CiuqwKSIlzz"
      },
      "outputs": [],
      "source": [
        "import pickle\n",
        "# with open('resource/asnlib/publicdata/test_cases.pkl', 'rb') as fin:\n",
        "#     cases = pickle.load(fin)\n",
        "with open('test_cases.pkl', 'rb') as fin:\n",
        "    cases = pickle.load(fin)"
      ]
    },
    {
      "cell_type": "markdown",
      "metadata": {
        "id": "ZXclYfjKIlzz"
      },
      "source": [
        "## First, let's solve the problem correctly."
      ]
    },
    {
      "cell_type": "markdown",
      "metadata": {
        "nbgrader": {
          "grade": false,
          "grade_id": "cell-f3331b5182117a1f",
          "locked": true,
          "schema_version": 1,
          "solution": false
        },
        "id": "XviNPguHIlzz"
      },
      "source": [
        "Consider the following dataset of exam grades, organized as a 2-D table and stored in Python as a \"list of lists\" under the variable name, `grades`."
      ]
    },
    {
      "cell_type": "code",
      "execution_count": 4,
      "metadata": {
        "nbgrader": {
          "grade": false,
          "grade_id": "cell-9dc72b683a8858c7",
          "locked": true,
          "schema_version": 1,
          "solution": false
        },
        "id": "J8dijwnOIlzz",
        "outputId": "db32b413-407c-4da9-fb78-a4bf7cc55199",
        "colab": {
          "base_uri": "https://localhost:8080/"
        }
      },
      "outputs": [
        {
          "output_type": "execute_result",
          "data": {
            "text/plain": [
              "[['Student', 'Exam 1', 'Exam 2', 'Exam 3'],\n",
              " ['Thorny', '100', '90', '80'],\n",
              " ['Mac', '88', '99', '111'],\n",
              " ['Farva', '45', '56', '67'],\n",
              " ['Rabbit', '59', '61', '67'],\n",
              " ['Ursula', '73', '79', '83'],\n",
              " ['Foster', '89', '97', '101']]"
            ]
          },
          "metadata": {},
          "execution_count": 4
        }
      ],
      "source": [
        "grades = [\n",
        "    # First line is descriptive header. Subsequent lines hold data\n",
        "    ['Student', 'Exam 1', 'Exam 2', 'Exam 3'],\n",
        "    ['Thorny', '100', '90', '80'],\n",
        "    ['Mac', '88', '99', '111'],\n",
        "    ['Farva', '45', '56', '67'],\n",
        "    ['Rabbit', '59', '61', '67'],\n",
        "    ['Ursula', '73', '79', '83'],\n",
        "    ['Foster', '89', '97', '101']\n",
        "]\n",
        "\n",
        "grades"
      ]
    },
    {
      "cell_type": "markdown",
      "metadata": {
        "nbgrader": {
          "grade": false,
          "grade_id": "cell-04082681e80572d5",
          "locked": true,
          "schema_version": 1,
          "solution": false
        },
        "id": "5PREsGNuIlz0"
      },
      "source": [
        "**Exercise 0** (`students_test`: 1 point). Complete the function `get_students` which takes a nested list `grades` as a parameter and reutrns a new list, `students`, which holds the names of the students as they from \"top to bottom\" in the table.\n",
        "- **Note**: the parameter `grades` will be similar to the table above in structure, but the data will be different."
      ]
    },
    {
      "cell_type": "code",
      "execution_count": 5,
      "metadata": {
        "nbgrader": {
          "grade": false,
          "grade_id": "students",
          "locked": false,
          "schema_version": 1,
          "solution": true
        },
        "id": "SXrRSE7gIlz0"
      },
      "outputs": [],
      "source": [
        "def get_students(grades):\n",
        "    ###\n",
        "    ### YOUR CODE HERE\n",
        "    ###\n",
        "\n",
        "    # Sample solution code below\n",
        "    students = []\n",
        "\n",
        "    for i in grades:\n",
        "        if i[0] != 'Student':   #correct code\n",
        "            students.append(i[0])\n",
        "    return students\n"
      ]
    },
    {
      "cell_type": "markdown",
      "metadata": {
        "nbgrader": {
          "grade": false,
          "locked": true,
          "solution": false
        },
        "id": "HOqODdGhIlz1"
      },
      "source": [
        "The demo cell below should display `['Thorny', 'Mac', 'Farva', 'Rabbit', 'Ursula', 'Foster']`."
      ]
    },
    {
      "cell_type": "code",
      "execution_count": 6,
      "metadata": {
        "nbgrader": {
          "grade": false,
          "locked": true,
          "solution": false
        },
        "id": "JHw5y4rWIlz1",
        "outputId": "b491d9ad-e269-4926-b583-67e6417c88e6",
        "colab": {
          "base_uri": "https://localhost:8080/"
        }
      },
      "outputs": [
        {
          "output_type": "execute_result",
          "data": {
            "text/plain": [
              "['Thorny', 'Mac', 'Farva', 'Rabbit', 'Ursula', 'Foster']"
            ]
          },
          "metadata": {},
          "execution_count": 6
        }
      ],
      "source": [
        "students = get_students(grades)\n",
        "students"
      ]
    },
    {
      "cell_type": "markdown",
      "metadata": {
        "nbgrader": {
          "grade": false,
          "locked": true,
          "solution": false
        },
        "id": "R70PzINgIlz1"
      },
      "source": [
        "The test cell below will check your solution against several randomly generated test cases. If your solution does not pass the test (or if you're just curious), you can look at the variables used in the latest test run. They are automatically imported for you as part of the test.\n",
        "\n",
        "- `input_vars` - Dictionary containing all of the inputs to your function. Keys are the parameter names.\n",
        "- `original_input_vars` - Dictionary containing a copy of all the inputs to your function. This is useful for debugging failures related to your solution modifying the input. Keys are the parameter names.\n",
        "- `returned_output_vars` - Dictionary containing the outputs your function generated. If there are multiple outputs, the keys will match the names mentioned in the exercrise instructions.\n",
        "- `true_output_vars` - Dictionary containing the outputs your function **should have** generated. If there are multiple outputs, the keys will match the names mentioned in the exercise instructions.\n",
        "\n",
        "All of the test cells in this notebook will use the same format, and you can expect a similar format on your exams as well."
      ]
    },
    {
      "cell_type": "code",
      "execution_count": 7,
      "metadata": {
        "nbgrader": {
          "grade": true,
          "grade_id": "students_test",
          "locked": true,
          "points": "1",
          "solution": false
        },
        "id": "Jhq-_8SXIlz1",
        "outputId": "20bcc8bc-b6d7-4fd4-9305-100cd46018ae",
        "colab": {
          "base_uri": "https://localhost:8080/"
        }
      },
      "outputs": [
        {
          "output_type": "stream",
          "name": "stdout",
          "text": [
            "Passed. Please submit!\n"
          ]
        }
      ],
      "source": [
        "# `students_test`: Test cell\n",
        "import nb_1_2_tester\n",
        "tester = nb_1_2_tester.Tester_1_2_0()\n",
        "for _ in range(20):\n",
        "    try:\n",
        "        tester.run_test(get_students)\n",
        "        (input_vars, original_input_vars, returned_output_vars, true_output_vars) = tester.get_test_vars()\n",
        "    except:\n",
        "        (input_vars, original_input_vars, returned_output_vars, true_output_vars) = tester.get_test_vars()\n",
        "        raise\n",
        "print('Passed. Please submit!')"
      ]
    },
    {
      "cell_type": "markdown",
      "metadata": {
        "id": "P5LIS16OIlz1"
      },
      "source": [
        "## Now we will fail the exercise in multiple ways.\n",
        "\n",
        "## Recall the two tests that are performed. We will demonstrate failure of each test, and how to troubleshoot each."
      ]
    },
    {
      "cell_type": "markdown",
      "metadata": {
        "id": "aPVVGBojIlz1"
      },
      "source": [
        "### First we will fail the test because we have modified the input in some way.\n",
        "\n",
        "We are going to deliberately write some code that obviously changes the input."
      ]
    },
    {
      "cell_type": "code",
      "execution_count": 8,
      "metadata": {
        "id": "VM45oliXIlz2"
      },
      "outputs": [],
      "source": [
        "def get_students_modify_input(grades):\n",
        "    ###\n",
        "    ### YOUR CODE HERE\n",
        "    ###\n",
        "#     print(grades)\n",
        "\n",
        "# this code modifies the input\n",
        "# uncomment to walk through\n",
        "    grades.append(['This should not be here','50','60','70'])\n",
        "\n",
        "    # Sample solution code below\n",
        "    students = []\n",
        "\n",
        "    for i in grades:\n",
        "        if i[0] != 'Student':   #correct code\n",
        "            students.append(i[0])\n",
        "    return students"
      ]
    },
    {
      "cell_type": "code",
      "execution_count": 9,
      "metadata": {
        "id": "vMbR-wskIlz2",
        "outputId": "aa7fdd82-db0e-451a-a59f-21a401612269",
        "colab": {
          "base_uri": "https://localhost:8080/"
        }
      },
      "outputs": [
        {
          "output_type": "execute_result",
          "data": {
            "text/plain": [
              "['Thorny',\n",
              " 'Mac',\n",
              " 'Farva',\n",
              " 'Rabbit',\n",
              " 'Ursula',\n",
              " 'Foster',\n",
              " 'This should not be here']"
            ]
          },
          "metadata": {},
          "execution_count": 9
        }
      ],
      "source": [
        "students = get_students_modify_input(grades)\n",
        "students"
      ]
    },
    {
      "cell_type": "markdown",
      "metadata": {
        "id": "DYOqYKLbIlz2"
      },
      "source": [
        "The test cell below will check your solution against several randomly generated test cases. If your solution does not pass the test (or if you're just curious), you can look at the variables used in the latest test run. They are automatically imported for you as part of the test.\n",
        "\n",
        "- `input_vars` - Dictionary containing all of the inputs to your function. Keys are the parameter names.\n",
        "- `original_input_vars` - Dictionary containing a copy of all the inputs to your function. This is useful for debugging failures related to your solution modifying the input. Keys are the parameter names.\n",
        "- `returned_output_vars` - Dictionary containing the outputs your function generated. If there are multiple outputs, the keys will match the names mentioned in the exercrise instructions.\n",
        "- `true_output_vars` - Dictionary containing the outputs your function **should have** generated. If there are multiple outputs, the keys will match the names mentioned in the exercrise instructions."
      ]
    },
    {
      "cell_type": "markdown",
      "source": [
        "You will also notice that the test cell below contains a `for` loop that iterates 20 times. Within this `for` loop are `Try..Except` clauses. `try` tests a block of code for errors. If no errors exist, the `try` block finishes, and the `except` block is skipped. The `except` block handles any errors, if encountered.\n",
        "\n",
        "You will next notice that if an error is encountered, the `except` block raises an error using the `raise` keyword.\n",
        "\n",
        "You can also specify what kind of error to raise. Some common types include `ValueError` or `TypeError`.\n",
        "\n",
        "<br>\n",
        "\n",
        "See the following for more details:\n",
        "* On `Try..Except`:\n",
        "\n",
        "  https://www.w3schools.com/python/python_try_except.asp\n",
        "\n",
        "* On `raise`:\n",
        "\n",
        "  https://www.w3schools.com/python/ref_keyword_raise.asp\n",
        "\n",
        "* On errors and exceptions in Python:\n",
        "\n",
        "  https://docs.python.org/3/tutorial/errors.html\n",
        "\n",
        "  https://python-course.eu/python-tutorial/errors-and-exception-handling.php"
      ],
      "metadata": {
        "id": "SkpvLv33GJL8"
      }
    },
    {
      "cell_type": "code",
      "execution_count": 12,
      "metadata": {
        "id": "bFKp8stoIlz2",
        "outputId": "e462fe32-549c-449b-a145-fd79266c541e",
        "colab": {
          "base_uri": "https://localhost:8080/",
          "height": 411
        }
      },
      "outputs": [
        {
          "output_type": "stream",
          "name": "stdout",
          "text": [
            "{'grades': [['Student', 'Exam 1', 'Exam 2', 'Exam 3', 'Exam 4'], ['Greedo', '76', '73', '83', '83'], ['Jango Fett', '97', '85', '68', '63'], ['Lando Calrissian', '83', '69', '59', '58'], ['IG-88', '86', '86', '86', '98'], ['Bib Fortuna', '59', '67', '55', '70'], ['Poggle the Lesser', '77', '84', '89', '56'], ['Finn', '66', '58', '99', '100'], ['Nute Gunray', '80', '59', '89', '69'], ['Yoda', '69', '75', '96', '92']]}\n"
          ]
        },
        {
          "output_type": "error",
          "ename": "AssertionError",
          "evalue": "Your solution modified the input variable `grades`. You can use the testing variables for debugging.",
          "traceback": [
            "\u001b[0;31m---------------------------------------------------------------------------\u001b[0m",
            "\u001b[0;31mAssertionError\u001b[0m                            Traceback (most recent call last)",
            "\u001b[0;32m<ipython-input-12-86cce5c3861e>\u001b[0m in \u001b[0;36m<cell line: 0>\u001b[0;34m()\u001b[0m\n\u001b[1;32m      5\u001b[0m \u001b[0;32mfor\u001b[0m \u001b[0m_\u001b[0m \u001b[0;32min\u001b[0m \u001b[0mrange\u001b[0m\u001b[0;34m(\u001b[0m\u001b[0;36m20\u001b[0m\u001b[0;34m)\u001b[0m\u001b[0;34m:\u001b[0m\u001b[0;34m\u001b[0m\u001b[0;34m\u001b[0m\u001b[0m\n\u001b[1;32m      6\u001b[0m     \u001b[0;32mtry\u001b[0m\u001b[0;34m:\u001b[0m\u001b[0;34m\u001b[0m\u001b[0;34m\u001b[0m\u001b[0m\n\u001b[0;32m----> 7\u001b[0;31m         \u001b[0mtester\u001b[0m\u001b[0;34m.\u001b[0m\u001b[0mrun_test\u001b[0m\u001b[0;34m(\u001b[0m\u001b[0mget_students_modify_input\u001b[0m\u001b[0;34m)\u001b[0m\u001b[0;34m\u001b[0m\u001b[0;34m\u001b[0m\u001b[0m\n\u001b[0m\u001b[1;32m      8\u001b[0m         \u001b[0;34m(\u001b[0m\u001b[0minput_vars\u001b[0m\u001b[0;34m,\u001b[0m \u001b[0moriginal_input_vars\u001b[0m\u001b[0;34m,\u001b[0m \u001b[0mreturned_output_vars\u001b[0m\u001b[0;34m,\u001b[0m \u001b[0mtrue_output_vars\u001b[0m\u001b[0;34m)\u001b[0m \u001b[0;34m=\u001b[0m \u001b[0mtester\u001b[0m\u001b[0;34m.\u001b[0m\u001b[0mget_test_vars\u001b[0m\u001b[0;34m(\u001b[0m\u001b[0;34m)\u001b[0m\u001b[0;34m\u001b[0m\u001b[0;34m\u001b[0m\u001b[0m\n\u001b[1;32m      9\u001b[0m     \u001b[0;32mexcept\u001b[0m\u001b[0;34m:\u001b[0m\u001b[0;34m\u001b[0m\u001b[0;34m\u001b[0m\u001b[0m\n",
            "\u001b[0;32m/content/tester_6040.py\u001b[0m in \u001b[0;36mrun_test\u001b[0;34m(self, func)\u001b[0m\n\u001b[1;32m     32\u001b[0m         \u001b[0mself\u001b[0m\u001b[0;34m.\u001b[0m\u001b[0mcopy_vars\u001b[0m\u001b[0;34m(\u001b[0m\u001b[0;34m)\u001b[0m         \u001b[0;31m# Create copy of inputs\u001b[0m\u001b[0;34m\u001b[0m\u001b[0;34m\u001b[0m\u001b[0m\n\u001b[1;32m     33\u001b[0m         \u001b[0mself\u001b[0m\u001b[0;34m.\u001b[0m\u001b[0mrun_func\u001b[0m\u001b[0;34m(\u001b[0m\u001b[0mfunc\u001b[0m\u001b[0;34m)\u001b[0m      \u001b[0;31m# Run the function being tested and set the returned outputs\u001b[0m\u001b[0;34m\u001b[0m\u001b[0;34m\u001b[0m\u001b[0m\n\u001b[0;32m---> 34\u001b[0;31m         \u001b[0mself\u001b[0m\u001b[0;34m.\u001b[0m\u001b[0mcheck_modified\u001b[0m\u001b[0;34m(\u001b[0m\u001b[0;34m)\u001b[0m    \u001b[0;31m# Check to verify inputs were not modified\u001b[0m\u001b[0;34m\u001b[0m\u001b[0;34m\u001b[0m\u001b[0m\n\u001b[0m\u001b[1;32m     35\u001b[0m         \u001b[0mself\u001b[0m\u001b[0;34m.\u001b[0m\u001b[0mcheck_type\u001b[0m\u001b[0;34m(\u001b[0m\u001b[0;34m)\u001b[0m        \u001b[0;31m# Check to verify correct output types\u001b[0m\u001b[0;34m\u001b[0m\u001b[0;34m\u001b[0m\u001b[0m\n\u001b[1;32m     36\u001b[0m         \u001b[0mself\u001b[0m\u001b[0;34m.\u001b[0m\u001b[0mcheck_matches\u001b[0m\u001b[0;34m(\u001b[0m\u001b[0;34m)\u001b[0m     \u001b[0;31m# Check to verify correct output\u001b[0m\u001b[0;34m\u001b[0m\u001b[0;34m\u001b[0m\u001b[0m\n",
            "\u001b[0;32m/content/tester_6040.py\u001b[0m in \u001b[0;36mcheck_modified\u001b[0;34m(self)\u001b[0m\n\u001b[1;32m     50\u001b[0m         '''\n\u001b[1;32m     51\u001b[0m         \u001b[0;32mfor\u001b[0m \u001b[0mvar_name\u001b[0m \u001b[0;32min\u001b[0m \u001b[0mself\u001b[0m\u001b[0;34m.\u001b[0m\u001b[0minput_vars\u001b[0m\u001b[0;34m:\u001b[0m\u001b[0;34m\u001b[0m\u001b[0;34m\u001b[0m\u001b[0m\n\u001b[0;32m---> 52\u001b[0;31m             \u001b[0;32massert\u001b[0m \u001b[0mself\u001b[0m\u001b[0;34m.\u001b[0m\u001b[0minput_vars\u001b[0m\u001b[0;34m[\u001b[0m\u001b[0mvar_name\u001b[0m\u001b[0;34m]\u001b[0m \u001b[0;34m==\u001b[0m \u001b[0mself\u001b[0m\u001b[0;34m.\u001b[0m\u001b[0moriginal_input_vars\u001b[0m\u001b[0;34m[\u001b[0m\u001b[0mvar_name\u001b[0m\u001b[0;34m]\u001b[0m\u001b[0;34m,\u001b[0m \u001b[0;34mf'Your solution modified the input variable `{var_name}`. You can use the testing variables for debugging.'\u001b[0m\u001b[0;34m\u001b[0m\u001b[0;34m\u001b[0m\u001b[0m\n\u001b[0m\u001b[1;32m     53\u001b[0m \u001b[0;34m\u001b[0m\u001b[0m\n\u001b[1;32m     54\u001b[0m     \u001b[0;31m###\u001b[0m\u001b[0;34m\u001b[0m\u001b[0;34m\u001b[0m\u001b[0m\n",
            "\u001b[0;31mAssertionError\u001b[0m: Your solution modified the input variable `grades`. You can use the testing variables for debugging."
          ]
        }
      ],
      "source": [
        "# `students_test`: Test cell\n",
        "import nb_1_2_tester\n",
        "tester = nb_1_2_tester.Tester_1_2_0()\n",
        "print(original_input_vars)\n",
        "for _ in range(20):\n",
        "    try:\n",
        "        tester.run_test(get_students_modify_input)\n",
        "        (input_vars, original_input_vars, returned_output_vars, true_output_vars) = tester.get_test_vars()\n",
        "    except:\n",
        "        (input_vars, original_input_vars, returned_output_vars, true_output_vars) = tester.get_test_vars()\n",
        "        raise\n",
        "print('Passed. Please submit!')"
      ]
    },
    {
      "cell_type": "markdown",
      "metadata": {
        "id": "HOQvROIXIlz2"
      },
      "source": [
        "#### So we have failed the exercise, and we can see from the AssertionError that we have modified the input variables in some way.\n",
        "\n",
        "What do we do now?\n",
        "\n",
        "#### As we said before, go back up to your code and find the line that has modified the input variables. There is no need to do any visual inspection at this point."
      ]
    },
    {
      "cell_type": "markdown",
      "metadata": {
        "id": "NnoEY70WIlz2"
      },
      "source": [
        "### Now we will fail the test because our solution data is incorrect. Our first incorrect solution is because we have the wrong data type for our return variable.\n",
        "\n",
        "We are going to deliberately write some code that returns an incorrect solution with an incorrect data type."
      ]
    },
    {
      "cell_type": "code",
      "execution_count": 14,
      "metadata": {
        "id": "2f_qpfX9Ilz2"
      },
      "outputs": [],
      "source": [
        "# reset the grades variable back to its original value\n",
        "grades = [\n",
        "    # First line is descriptive header. Subsequent lines hold data\n",
        "    ['Student', 'Exam 1', 'Exam 2', 'Exam 3'],\n",
        "    ['Thorny', '100', '90', '80'],\n",
        "    ['Mac', '88', '99', '111'],\n",
        "    ['Farva', '45', '56', '67'],\n",
        "    ['Rabbit', '59', '61', '67'],\n",
        "    ['Ursula', '73', '79', '83'],\n",
        "    ['Foster', '89', '97', '101']\n",
        "]"
      ]
    },
    {
      "cell_type": "code",
      "execution_count": 15,
      "metadata": {
        "id": "vZOfJx_LIlz2"
      },
      "outputs": [],
      "source": [
        "def get_students_incorrect_data_type(grades):\n",
        "    ###\n",
        "    ### YOUR CODE HERE\n",
        "    ###\n",
        "\n",
        "    # Sample solution code below\n",
        "    students = []\n",
        "\n",
        "    for i in grades:\n",
        "        if i[0] != 'Student':   #correct code\n",
        "            students.append(i[0])\n",
        "\n",
        "#     change the data type\n",
        "#     uncomment to show the error\n",
        "    return set(students)\n",
        "\n",
        "    return students"
      ]
    },
    {
      "cell_type": "code",
      "execution_count": 16,
      "metadata": {
        "id": "0kjA32_iIlz2",
        "outputId": "77bba195-d4ec-497a-b2c3-69b78a83ebf6",
        "colab": {
          "base_uri": "https://localhost:8080/"
        }
      },
      "outputs": [
        {
          "output_type": "execute_result",
          "data": {
            "text/plain": [
              "{'Farva', 'Foster', 'Mac', 'Rabbit', 'Thorny', 'Ursula'}"
            ]
          },
          "metadata": {},
          "execution_count": 16
        }
      ],
      "source": [
        "# demo cell\n",
        "students = get_students_incorrect_data_type(grades)\n",
        "students"
      ]
    },
    {
      "cell_type": "markdown",
      "metadata": {
        "id": "6T724vlTIlz3"
      },
      "source": [
        "The test cell below will check your solution against several randomly generated test cases. If your solution does not pass the test (or if you're just curious), you can look at the variables used in the latest test run. They are automatically imported for you as part of the test.\n",
        "\n",
        "- `input_vars` - Dictionary containing all of the inputs to your function. Keys are the parameter names.\n",
        "- `original_input_vars` - Dictionary containing a copy of all the inputs to your function. This is useful for debugging failures related to your solution modifying the input. Keys are the parameter names.\n",
        "- `returned_output_vars` - Dictionary containing the outputs your function generated. If there are multiple outputs, the keys will match the names mentioned in the exercrise instructions.\n",
        "- `true_output_vars` - Dictionary containing the outputs your function **should have** generated. If there are multiple outputs, the keys will match the names mentioned in the exercrise instructions."
      ]
    },
    {
      "cell_type": "code",
      "execution_count": 17,
      "metadata": {
        "id": "-X6mihxaIlz3",
        "outputId": "826efada-f483-49c4-b70d-3eff780e3be7",
        "colab": {
          "base_uri": "https://localhost:8080/",
          "height": 373
        }
      },
      "outputs": [
        {
          "output_type": "error",
          "ename": "AssertionError",
          "evalue": "Output `students` is not the correct type. It should have type `list`.",
          "traceback": [
            "\u001b[0;31m---------------------------------------------------------------------------\u001b[0m",
            "\u001b[0;31mAssertionError\u001b[0m                            Traceback (most recent call last)",
            "\u001b[0;32m<ipython-input-17-39d4f4929920>\u001b[0m in \u001b[0;36m<cell line: 0>\u001b[0;34m()\u001b[0m\n\u001b[1;32m      4\u001b[0m \u001b[0;32mfor\u001b[0m \u001b[0m_\u001b[0m \u001b[0;32min\u001b[0m \u001b[0mrange\u001b[0m\u001b[0;34m(\u001b[0m\u001b[0;36m20\u001b[0m\u001b[0;34m)\u001b[0m\u001b[0;34m:\u001b[0m\u001b[0;34m\u001b[0m\u001b[0;34m\u001b[0m\u001b[0m\n\u001b[1;32m      5\u001b[0m     \u001b[0;32mtry\u001b[0m\u001b[0;34m:\u001b[0m\u001b[0;34m\u001b[0m\u001b[0;34m\u001b[0m\u001b[0m\n\u001b[0;32m----> 6\u001b[0;31m         \u001b[0mtester\u001b[0m\u001b[0;34m.\u001b[0m\u001b[0mrun_test\u001b[0m\u001b[0;34m(\u001b[0m\u001b[0mget_students_incorrect_data_type\u001b[0m\u001b[0;34m)\u001b[0m\u001b[0;34m\u001b[0m\u001b[0;34m\u001b[0m\u001b[0m\n\u001b[0m\u001b[1;32m      7\u001b[0m         \u001b[0;34m(\u001b[0m\u001b[0minput_vars\u001b[0m\u001b[0;34m,\u001b[0m \u001b[0moriginal_input_vars\u001b[0m\u001b[0;34m,\u001b[0m \u001b[0mreturned_output_vars\u001b[0m\u001b[0;34m,\u001b[0m \u001b[0mtrue_output_vars\u001b[0m\u001b[0;34m)\u001b[0m \u001b[0;34m=\u001b[0m \u001b[0mtester\u001b[0m\u001b[0;34m.\u001b[0m\u001b[0mget_test_vars\u001b[0m\u001b[0;34m(\u001b[0m\u001b[0;34m)\u001b[0m\u001b[0;34m\u001b[0m\u001b[0;34m\u001b[0m\u001b[0m\n\u001b[1;32m      8\u001b[0m     \u001b[0;32mexcept\u001b[0m\u001b[0;34m:\u001b[0m\u001b[0;34m\u001b[0m\u001b[0;34m\u001b[0m\u001b[0m\n",
            "\u001b[0;32m/content/tester_6040.py\u001b[0m in \u001b[0;36mrun_test\u001b[0;34m(self, func)\u001b[0m\n\u001b[1;32m     33\u001b[0m         \u001b[0mself\u001b[0m\u001b[0;34m.\u001b[0m\u001b[0mrun_func\u001b[0m\u001b[0;34m(\u001b[0m\u001b[0mfunc\u001b[0m\u001b[0;34m)\u001b[0m      \u001b[0;31m# Run the function being tested and set the returned outputs\u001b[0m\u001b[0;34m\u001b[0m\u001b[0;34m\u001b[0m\u001b[0m\n\u001b[1;32m     34\u001b[0m         \u001b[0mself\u001b[0m\u001b[0;34m.\u001b[0m\u001b[0mcheck_modified\u001b[0m\u001b[0;34m(\u001b[0m\u001b[0;34m)\u001b[0m    \u001b[0;31m# Check to verify inputs were not modified\u001b[0m\u001b[0;34m\u001b[0m\u001b[0;34m\u001b[0m\u001b[0m\n\u001b[0;32m---> 35\u001b[0;31m         \u001b[0mself\u001b[0m\u001b[0;34m.\u001b[0m\u001b[0mcheck_type\u001b[0m\u001b[0;34m(\u001b[0m\u001b[0;34m)\u001b[0m        \u001b[0;31m# Check to verify correct output types\u001b[0m\u001b[0;34m\u001b[0m\u001b[0;34m\u001b[0m\u001b[0m\n\u001b[0m\u001b[1;32m     36\u001b[0m         \u001b[0mself\u001b[0m\u001b[0;34m.\u001b[0m\u001b[0mcheck_matches\u001b[0m\u001b[0;34m(\u001b[0m\u001b[0;34m)\u001b[0m     \u001b[0;31m# Check to verify correct output\u001b[0m\u001b[0;34m\u001b[0m\u001b[0;34m\u001b[0m\u001b[0m\n\u001b[1;32m     37\u001b[0m \u001b[0;34m\u001b[0m\u001b[0m\n",
            "\u001b[0;32m/content/nb_1_2_tester.py\u001b[0m in \u001b[0;36mcheck_type\u001b[0;34m(self)\u001b[0m\n\u001b[1;32m     16\u001b[0m \u001b[0;34m\u001b[0m\u001b[0m\n\u001b[1;32m     17\u001b[0m     \u001b[0;32mdef\u001b[0m \u001b[0mcheck_type\u001b[0m\u001b[0;34m(\u001b[0m\u001b[0mself\u001b[0m\u001b[0;34m)\u001b[0m\u001b[0;34m:\u001b[0m\u001b[0;34m\u001b[0m\u001b[0;34m\u001b[0m\u001b[0m\n\u001b[0;32m---> 18\u001b[0;31m         \u001b[0;32massert\u001b[0m \u001b[0mtype\u001b[0m\u001b[0;34m(\u001b[0m\u001b[0mself\u001b[0m\u001b[0;34m.\u001b[0m\u001b[0mreturned_output_vars\u001b[0m\u001b[0;34m[\u001b[0m\u001b[0;34m'students'\u001b[0m\u001b[0;34m]\u001b[0m\u001b[0;34m)\u001b[0m \u001b[0;32mis\u001b[0m \u001b[0mlist\u001b[0m\u001b[0;34m,\u001b[0m \u001b[0;34m'Output `students` is not the correct type. It should have type `list`.'\u001b[0m\u001b[0;34m\u001b[0m\u001b[0;34m\u001b[0m\u001b[0m\n\u001b[0m\u001b[1;32m     19\u001b[0m \u001b[0;34m\u001b[0m\u001b[0m\n\u001b[1;32m     20\u001b[0m     \u001b[0;32mdef\u001b[0m \u001b[0mcheck_matches\u001b[0m\u001b[0;34m(\u001b[0m\u001b[0mself\u001b[0m\u001b[0;34m)\u001b[0m\u001b[0;34m:\u001b[0m\u001b[0;34m\u001b[0m\u001b[0;34m\u001b[0m\u001b[0m\n",
            "\u001b[0;31mAssertionError\u001b[0m: Output `students` is not the correct type. It should have type `list`."
          ]
        }
      ],
      "source": [
        "# `students_test`: Test cell\n",
        "import nb_1_2_tester\n",
        "tester = nb_1_2_tester.Tester_1_2_0()\n",
        "for _ in range(20):\n",
        "    try:\n",
        "        tester.run_test(get_students_incorrect_data_type)\n",
        "        (input_vars, original_input_vars, returned_output_vars, true_output_vars) = tester.get_test_vars()\n",
        "    except:\n",
        "        (input_vars, original_input_vars, returned_output_vars, true_output_vars) = tester.get_test_vars()\n",
        "        raise\n",
        "print('Passed. Please submit!')"
      ]
    },
    {
      "cell_type": "markdown",
      "metadata": {
        "id": "fEYuUYedIlz3"
      },
      "source": [
        "#### So we have failed the exercise, and we can see from the AssertionError that our returned output does not match the expected (solution) output.\n",
        "\n",
        "What do we do now?\n",
        "\n",
        "#### Now we have to figure out which of the three tests we failed (data type, length, actual data values)."
      ]
    },
    {
      "cell_type": "markdown",
      "metadata": {
        "id": "hVqlwfgIIlz3"
      },
      "source": [
        "#### We can do a visual inspection, if we think that we can find the differences this way.\n",
        "\n",
        "Note that we are using `display()` instead of `print()`. Why do you think we are doing this?"
      ]
    },
    {
      "cell_type": "code",
      "execution_count": 18,
      "metadata": {
        "id": "AGE2543wIlz3",
        "outputId": "5a4322bc-a56a-4f37-b0c8-425acaef231d",
        "colab": {
          "base_uri": "https://localhost:8080/",
          "height": 260
        }
      },
      "outputs": [
        {
          "output_type": "display_data",
          "data": {
            "text/plain": [
              "{'students': {'Arvel Crynyd',\n",
              "  'Dormé',\n",
              "  'Lobot',\n",
              "  'Poe Dameron',\n",
              "  'Yarael Poof',\n",
              "  'Yoda',\n",
              "  'Zam Wesell'}}"
            ]
          },
          "metadata": {}
        },
        {
          "output_type": "display_data",
          "data": {
            "text/plain": [
              "{'students': ['Lobot',\n",
              "  'Arvel Crynyd',\n",
              "  'Yarael Poof',\n",
              "  'Poe Dameron',\n",
              "  'Dormé',\n",
              "  'Zam Wesell',\n",
              "  'Yoda']}"
            ]
          },
          "metadata": {}
        }
      ],
      "source": [
        "# # ONLY UNCOMMENT IF YOU NEED IT!!!!\n",
        "# # BEWARE THAT THIS COULD GENERATE VOLUMINOUS OUTPUT!!!!!\n",
        "\n",
        "# uncomment for visual inspection\n",
        "# print('returned_output_vars')\n",
        "display(returned_output_vars)\n",
        "# print('\\ntrue_output_vars')\n",
        "display(true_output_vars)"
      ]
    },
    {
      "cell_type": "markdown",
      "metadata": {
        "id": "4dlVQBAkIlz3"
      },
      "source": [
        "### We have not covered dictionaries in the bootcamp yet, but note that the `test case variables` are dictionaries.\n",
        "\n",
        "1. The key of each dictionary is the name of the returned variable. In this case, the key is `'students'`. If there are multiple returned variables, there will be a separate key for each.\n",
        "\n",
        "2. The value of each dictionary is the actual variable values."
      ]
    },
    {
      "cell_type": "code",
      "execution_count": 19,
      "metadata": {
        "id": "P8xNvV5UIlz3",
        "outputId": "7551b939-d47e-4709-a23e-a7310508f180",
        "colab": {
          "base_uri": "https://localhost:8080/",
          "height": 156
        }
      },
      "outputs": [
        {
          "output_type": "display_data",
          "data": {
            "text/plain": [
              "dict_keys(['students'])"
            ]
          },
          "metadata": {}
        },
        {
          "output_type": "display_data",
          "data": {
            "text/plain": [
              "['Lobot',\n",
              " 'Arvel Crynyd',\n",
              " 'Yarael Poof',\n",
              " 'Poe Dameron',\n",
              " 'Dormé',\n",
              " 'Zam Wesell',\n",
              " 'Yoda']"
            ]
          },
          "metadata": {}
        }
      ],
      "source": [
        "# addressing the keys and values\n",
        "# print(\"Keys\")\n",
        "display(true_output_vars.keys())\n",
        "\n",
        "# print('\\nValues')\n",
        "display(true_output_vars['students'])"
      ]
    },
    {
      "cell_type": "markdown",
      "metadata": {
        "id": "mkFpnYmyIlz3"
      },
      "source": [
        "#### If we are able to find the differences by visual inspection, great. Now go back up the code and figure out what we need to change.\n",
        "\n",
        "\n",
        "\n",
        "#### But what if we are not able to see the difference(s) by visual inspection? This is VERY COMMON.\n",
        "\n",
        "So let's programmatically find out the differences.\n",
        "\n",
        "For whichever difference is the issue, you must then go back up to your code and work through where you have introduced the error."
      ]
    },
    {
      "cell_type": "code",
      "execution_count": 20,
      "metadata": {
        "id": "99yqTLnOIlz3",
        "outputId": "57ee95cb-2433-40fc-f984-e340ddf739db",
        "colab": {
          "base_uri": "https://localhost:8080/"
        }
      },
      "outputs": [
        {
          "output_type": "stream",
          "name": "stdout",
          "text": [
            "Output data types do not match\n",
            "true_output_vars data type:  <class 'list'>\n",
            "returned_output_vars data type:  <class 'set'> \n",
            "\n"
          ]
        }
      ],
      "source": [
        "# First test, do we have the same data types?\n",
        "for k_t,v_t in true_output_vars.items():\n",
        "\n",
        "    for k_r,v_r in returned_output_vars.items():\n",
        "\n",
        "#     # check for datatype (list,dict,set)\n",
        "        if type(v_t) == type(v_r):\n",
        "            print('Output data types match\\n')\n",
        "        else:\n",
        "            print('Output data types do not match')\n",
        "            print('true_output_vars data type: ',type(v_t))\n",
        "            print('returned_output_vars data type: ',type(v_r),'\\n')"
      ]
    },
    {
      "cell_type": "markdown",
      "metadata": {
        "id": "yFF0iDZtIlz3"
      },
      "source": [
        "***"
      ]
    },
    {
      "cell_type": "markdown",
      "metadata": {
        "id": "KZE-r4PfIlz3"
      },
      "source": [
        "### Our next incorrect solution is because the length of our returned output variable is different from the length of the true output variable.\n",
        "\n",
        "We are going to deliberately write some code that returns an incorrect solution with an incorrect length."
      ]
    },
    {
      "cell_type": "code",
      "execution_count": null,
      "metadata": {
        "id": "hxp8LVCyIlz3"
      },
      "outputs": [],
      "source": [
        "def get_students_incorrect_length(grades):\n",
        "    ###\n",
        "    ### YOUR CODE HERE\n",
        "    ###\n",
        "\n",
        "    # Sample solution code below\n",
        "    students = []\n",
        "\n",
        "    for i in grades:\n",
        "        if i[0] != 'Student':   #correct code\n",
        "            students.append(i[0])\n",
        "\n",
        "#         changes the length of the returned data\n",
        "#         incorrect code, uncomment the next two line to walk through\n",
        "         elif i[0] == 'Student':\n",
        "             students.append(i[0])\n",
        "\n",
        "    return students"
      ]
    },
    {
      "cell_type": "code",
      "execution_count": null,
      "metadata": {
        "id": "xRfmWl9PIlz4"
      },
      "outputs": [],
      "source": [
        "# demo cell\n",
        "students = get_students_incorrect_length(grades)\n",
        "students"
      ]
    },
    {
      "cell_type": "markdown",
      "metadata": {
        "id": "5Kd_axHeIlz4"
      },
      "source": [
        "The test cell below will check your solution against several randomly generated test cases. If your solution does not pass the test (or if you're just curious), you can look at the variables used in the latest test run. They are automatically imported for you as part of the test.\n",
        "\n",
        "- `input_vars` - Dictionary containing all of the inputs to your function. Keys are the parameter names.\n",
        "- `original_input_vars` - Dictionary containing a copy of all the inputs to your function. This is useful for debugging failures related to your solution modifying the input. Keys are the parameter names.\n",
        "- `returned_output_vars` - Dictionary containing the outputs your function generated. If there are multiple outputs, the keys will match the names mentioned in the exercrise instructions.\n",
        "- `true_output_vars` - Dictionary containing the outputs your function **should have** generated. If there are multiple outputs, the keys will match the names mentioned in the exercrise instructions.\n",
        "\n",
        "All of the test cells in this notebook will use the same format, and you can expect a similar format on your exams as well."
      ]
    },
    {
      "cell_type": "code",
      "execution_count": null,
      "metadata": {
        "id": "BLW58gbfIlz4"
      },
      "outputs": [],
      "source": [
        "# `students_test`: Test cell\n",
        "import nb_1_2_tester\n",
        "tester = nb_1_2_tester.Tester_1_2_0()\n",
        "for _ in range(20):\n",
        "    try:\n",
        "        tester.run_test(get_students_incorrect_length)\n",
        "        (input_vars, original_input_vars, returned_output_vars, true_output_vars) = tester.get_test_vars()\n",
        "    except:\n",
        "        (input_vars, original_input_vars, returned_output_vars, true_output_vars) = tester.get_test_vars()\n",
        "        raise\n",
        "print('Passed. Please submit!')"
      ]
    },
    {
      "cell_type": "code",
      "execution_count": null,
      "metadata": {
        "id": "xR4srSN5Ilz7"
      },
      "outputs": [],
      "source": [
        "# Second test, do we have the same lengths?\n",
        "for k_t,v_t in true_output_vars.items():\n",
        "\n",
        "    for k_r,v_r in returned_output_vars.items():\n",
        "\n",
        "#     # check for the length of the solution (lists,dict,set)\n",
        "        if len(v_t) == len(v_r):\n",
        "            print('Output lengths match\\n')\n",
        "        elif len(v_t) > len(v_r):\n",
        "            print('true_output_vars is longer than returned_output_vars.')\n",
        "            print('Your solution does not have enough data in it.')\n",
        "            print('true_output_vars length:',len(v_t))\n",
        "            print('returned_output_vars length:',len(v_r))\n",
        "        else:\n",
        "            print('returned_output_vars is longer than true_output_vars.')\n",
        "            print('Your solution has too much data in it.')\n",
        "            print('true_output_vars length:',len(v_t))\n",
        "            print('returned_output_vars length:',len(v_r))"
      ]
    },
    {
      "cell_type": "markdown",
      "metadata": {
        "id": "D9PrTaFXIlz7"
      },
      "source": [
        "#### When there is length difference your output variables, the most likely reason is that you failed to correctly deal with one of the exercise requirements. You have done one of the following:\n",
        "\n",
        "    1. Included a value that should have been excluded (your output is longer than what it should be).\n",
        "\n",
        "    2. Excluded a value that should have been included (your output is shorter than what it should be).\n",
        "\n",
        "#### At this point, our method is to output/display the two variables and visually compare them, to  find the missing/extra value.\n",
        "\n",
        "\n",
        "#### Once we know what the extra/missing value is, we must go back to our code and compare it with each of the include/exclude requirements, to see which requirement we did not do correctly."
      ]
    },
    {
      "cell_type": "markdown",
      "metadata": {
        "id": "vTGfIbNOIlz7"
      },
      "source": [
        "In this case, we included the key `'Student'` in our output. This key is not the name of an actual student, so it should not have been included. So our output is longer than what it should have been.\n",
        "\n",
        "We can go back to our code, find where we have included this, and remove that code.\n",
        "***"
      ]
    },
    {
      "cell_type": "markdown",
      "metadata": {
        "id": "ms2_k8O8Ilz7"
      },
      "source": [
        "### Our final incorrect solution is because the actual data in our returned output variable is different from the data of the true output variable.\n",
        "\n",
        "We are going to deliberately write some code that returns an incorrect solution with incorrect data."
      ]
    },
    {
      "cell_type": "markdown",
      "metadata": {
        "id": "nN89sGhRIlz7"
      },
      "source": [
        "### So what if the first two checks pass? This generally means that your code is computing something incorrectly."
      ]
    },
    {
      "cell_type": "code",
      "execution_count": null,
      "metadata": {
        "id": "tSa5XyJ1Ilz7"
      },
      "outputs": [],
      "source": [
        "# reset the grades variable back to its original value\n",
        "grades = [\n",
        "    # First line is descriptive header. Subsequent lines hold data\n",
        "    ['Student', 'Exam 1', 'Exam 2', 'Exam 3'],\n",
        "    ['Thorny', '100', '90', '80'],\n",
        "    ['Mac', '88', '99', '111'],\n",
        "    ['Farva', '45', '56', '67'],\n",
        "    ['Rabbit', '59', '61', '67'],\n",
        "    ['Ursula', '73', '79', '83'],\n",
        "    ['Foster', '89', '97', '101']\n",
        "]"
      ]
    },
    {
      "cell_type": "code",
      "execution_count": null,
      "metadata": {
        "id": "TX6rJZlaIlz8"
      },
      "outputs": [],
      "source": [
        "def get_students_incorrect_data(grades):\n",
        "    ###\n",
        "    ### YOUR CODE HERE\n",
        "    ###\n",
        "\n",
        "    import copy\n",
        "#     https://www.geeksforgeeks.org/copy-python-deep-copy-shallow-copy/\n",
        "    grades_copy = copy.deepcopy(grades)   #why do this? this is a deep copy\n",
        "\n",
        "    # Sample solution code below\n",
        "    students = []\n",
        "\n",
        "    for i in grades_copy:\n",
        "        if i[0] != 'Student':   #correct code\n",
        "\n",
        "#             change the data so that it is different from the solution\n",
        "#             incorrect code, uncomment the next line to walk through\n",
        "#             i[0] += \"aaa\"\n",
        "\n",
        "            students.append(i[0])\n",
        "\n",
        "    return students"
      ]
    },
    {
      "cell_type": "code",
      "execution_count": null,
      "metadata": {
        "id": "F50DFUhdIlz8"
      },
      "outputs": [],
      "source": [
        "# demo cell\n",
        "students = get_students_incorrect_data(grades)\n",
        "students"
      ]
    },
    {
      "cell_type": "markdown",
      "metadata": {
        "id": "TEDdMUpxIlz8"
      },
      "source": [
        "The test cell below will check your solution against several randomly generated test cases. If your solution does not pass the test (or if you're just curious), you can look at the variables used in the latest test run. They are automatically imported for you as part of the test.\n",
        "\n",
        "- `input_vars` - Dictionary containing all of the inputs to your function. Keys are the parameter names.\n",
        "- `original_input_vars` - Dictionary containing a copy of all the inputs to your function. This is useful for debugging failures related to your solution modifying the input. Keys are the parameter names.\n",
        "- `returned_output_vars` - Dictionary containing the outputs your function generated. If there are multiple outputs, the keys will match the names mentioned in the exercrise instructions.\n",
        "- `true_output_vars` - Dictionary containing the outputs your function **should have** generated. If there are multiple outputs, the keys will match the names mentioned in the exercrise instructions.\n",
        "\n",
        "All of the test cells in this notebook will use the same format, and you can expect a similar format on your exams as well."
      ]
    },
    {
      "cell_type": "code",
      "execution_count": null,
      "metadata": {
        "id": "zmmS9Sa7Ilz8"
      },
      "outputs": [],
      "source": [
        "# `students_test`: Test cell\n",
        "import nb_1_2_tester\n",
        "tester = nb_1_2_tester.Tester_1_2_0()\n",
        "for _ in range(20):\n",
        "    try:\n",
        "        tester.run_test(get_students_incorrect_data)\n",
        "        (input_vars, original_input_vars, returned_output_vars, true_output_vars) = tester.get_test_vars()\n",
        "    except:\n",
        "        (input_vars, original_input_vars, returned_output_vars, true_output_vars) = tester.get_test_vars()\n",
        "        raise\n",
        "print('Passed. Please submit!')"
      ]
    },
    {
      "cell_type": "markdown",
      "metadata": {
        "id": "fQyDUU2eIlz8"
      },
      "source": [
        "### So how do we deal with this third test scenario? We have several options, but none of them are \"easy fixes\".\n",
        "\n",
        "### Ultimately, you are going to have to go back to your code and find/correct what you have written wrong.\n",
        "\n",
        "1. Visually inspect the `test case variables` and find the difference(s). Then go back to the line(s) of code that produced the difference(s).\n",
        "\n",
        "2. Go back into your code directly and walk through each step, comparing it the requirement/step that it executes, to see if you can find the error.\n",
        "\n",
        "    ***Some examples include:***\n",
        "\n",
        "\n",
        "    1. You have written a math code equation wrong.\n",
        "\n",
        "    2. You are incorrectly assigning a value.\n",
        "\n",
        "    3. You have some string manipulation wrong.\n",
        "\n",
        "    4. You have a logic error.\n",
        "\n",
        "    5. You have sorted incorrectly (or failed to sort when you should have).\n",
        "\n",
        "    6. You have incorrectly rounded numeric data (or failed to round when you should have)\n",
        "    \n",
        "3. Write a code loop that compares each element individually and outputs an error message when they are not the same.\n",
        "\n",
        "    To do this, you must write a loop for the data type of your returned variable.\n",
        "    \n",
        "    This is a (potentially) complex and time-consuming operation, and it requires a solid understanding of the data types.\n",
        "    \n",
        "    and as such, we are not going to show this technique.\n",
        "    \n",
        "    With unlimited exam time, we might teach this methodology, but for students with limited programming backgrounds, at this point in the course, we believe that this is not a good use of time and resources."
      ]
    },
    {
      "cell_type": "code",
      "execution_count": null,
      "metadata": {
        "id": "4ObrgL2LIlz8"
      },
      "outputs": [],
      "source": [
        "# uncomment for visual inspection\n",
        "print('returned_output_vars\\n')\n",
        "print(returned_output_vars)\n",
        "print('\\ntrue_output_vars\\n')\n",
        "print(true_output_vars)"
      ]
    },
    {
      "cell_type": "code",
      "execution_count": null,
      "metadata": {
        "id": "95Scy470Ilz8"
      },
      "outputs": [],
      "source": [
        "# Another means of printing out the results\n",
        "for i in returned_output_vars:\n",
        "    print(returned_output_vars.get(i))\n",
        "    print(true_output_vars.get(i))"
      ]
    },
    {
      "cell_type": "markdown",
      "metadata": {
        "id": "NkSrnYOUIlz8"
      },
      "source": [
        "***"
      ]
    },
    {
      "cell_type": "markdown",
      "metadata": {
        "id": "d5YO8gv8Ilz8"
      },
      "source": [
        "## One final note, concerning the demo cells."
      ]
    },
    {
      "cell_type": "markdown",
      "metadata": {
        "id": "A1XaEBGQIlz8"
      },
      "source": [
        "### The demo cells are designed to give you some sample data, to help you to get your code up and running. You will see these for every exercise on all of the exams.\n",
        "\n",
        "## Note that I can pass the demo cell and still fail the test cell!!!\n",
        "\n",
        "This will be ***ONE OF THE BIGGEST PROBLEMS*** for students on the exams.\n",
        "\n",
        "Students think that, because they passed the DEMO CELL, it means that they WILL ALSO pass the TEST CELL.\n",
        "\n",
        "This IS NOT the case, as the DEMO CELL is designed to give you some SAMPLE DATA, to help you get your code up and running."
      ]
    },
    {
      "cell_type": "markdown",
      "metadata": {
        "id": "t0eMbCrIIlz8"
      },
      "source": [
        "## The DEMO CELL IS NOT a full test of your code, and you can easily pass the DEMO CELL and FAIL the TEST CELL!!!\n",
        "\n",
        "## The TEST CELL is a FULL TEST of your code, and it is much more extensive than the DEMO CELL.\n",
        "\n",
        "## So be aware that you can pass the DEMO CELL and still fail the TEST CELL."
      ]
    },
    {
      "cell_type": "markdown",
      "metadata": {
        "id": "VZzWGaClIlz8"
      },
      "source": [
        "***\n",
        "***ON EVERY EXAM***, there will be ***AT LEAST 20 Piazza posts*** from students whose code passes the demo cell and fails the test cell. They will post that there is a BUG in the exam because of this, when in fact, their code is incorrect.\n",
        "\n",
        "Please be aware of this difference between the demo and test cells.\n",
        "***"
      ]
    },
    {
      "cell_type": "markdown",
      "metadata": {
        "id": "HMA2H5uOIlz8"
      },
      "source": [
        "## What are your questions concerning data troubleshooting using the `test case variables`?"
      ]
    },
    {
      "cell_type": "code",
      "execution_count": null,
      "metadata": {
        "id": "iOjioro9Ilz8"
      },
      "outputs": [],
      "source": []
    }
  ],
  "metadata": {
    "celltoolbar": "Create Assignment",
    "kernel_info": {
      "name": "python3"
    },
    "kernelspec": {
      "display_name": "Python 3 (ipykernel)",
      "language": "python",
      "name": "python3"
    },
    "language_info": {
      "codemirror_mode": {
        "name": "ipython",
        "version": 3
      },
      "file_extension": ".py",
      "mimetype": "text/x-python",
      "name": "python",
      "nbconvert_exporter": "python",
      "pygments_lexer": "ipython3",
      "version": "3.9.13"
    },
    "nteract": {
      "version": "0.15.0"
    },
    "colab": {
      "provenance": [],
      "include_colab_link": true
    }
  },
  "nbformat": 4,
  "nbformat_minor": 0
}